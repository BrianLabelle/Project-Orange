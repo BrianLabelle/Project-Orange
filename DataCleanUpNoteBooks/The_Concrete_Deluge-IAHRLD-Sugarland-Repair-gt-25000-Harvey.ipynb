{
 "cells": [
  {
   "cell_type": "code",
   "execution_count": 1,
   "metadata": {},
   "outputs": [
    {
     "name": "stdout",
     "output_type": "stream",
     "text": [
      "FEMA DataSet : Individual Assistance Housing Registrants Large Disasters | KINGWOOD | Repair Amount > 25000\n"
     ]
    },
    {
     "data": {
      "text/html": [
       "<div>\n",
       "<style scoped>\n",
       "    .dataframe tbody tr th:only-of-type {\n",
       "        vertical-align: middle;\n",
       "    }\n",
       "\n",
       "    .dataframe tbody tr th {\n",
       "        vertical-align: top;\n",
       "    }\n",
       "\n",
       "    .dataframe thead th {\n",
       "        text-align: right;\n",
       "    }\n",
       "</style>\n",
       "<table border=\"1\" class=\"dataframe\">\n",
       "  <thead>\n",
       "    <tr style=\"text-align: right;\">\n",
       "      <th></th>\n",
       "    </tr>\n",
       "  </thead>\n",
       "  <tbody>\n",
       "  </tbody>\n",
       "</table>\n",
       "</div>"
      ],
      "text/plain": [
       "Empty DataFrame\n",
       "Columns: []\n",
       "Index: []"
      ]
     },
     "execution_count": 1,
     "metadata": {},
     "output_type": "execute_result"
    }
   ],
   "source": [
    "# Dependencies\n",
    "import requests\n",
    "import json\n",
    "import matplotlib.pyplot as plt\n",
    "import pandas as pd\n",
    "import numpy as np\n",
    "import requests\n",
    "\n",
    "# REFERENCE LINK FOR COLUMN DEFINITION\n",
    "# https://www.fema.gov/openfema-dataset-individual-assistance-housing-registrants-large-disasters-v1\n",
    "\n",
    "# FEMA Data | KINGWOOD Repair Amount > 25000 | 422 rows\n",
    "url = \"https://www.fema.gov/api/open/v1/IndividualAssistanceHousingRegistrantsLargeDisasters?$filter=damagedStateAbbreviation%20eq%20%27TX%27%20and%20damagedCity%20eq%20%27SUGARLAND%27%20and%20repairAmount%20gt%2025000\"\n",
    "\n",
    "# Request articles\n",
    "articles = requests.get(url).json()\n",
    "\n",
    "print(\"FEMA DataSet : Individual Assistance Housing Registrants Large Disasters | KINGWOOD | Repair Amount > 25000\")\n",
    "\n",
    "data_df = pd.DataFrame(articles[\"IndividualAssistanceHousingRegistrantsLargeDisasters\"])\n",
    "data_df\n",
    "\n"
   ]
  },
  {
   "cell_type": "code",
   "execution_count": 2,
   "metadata": {},
   "outputs": [],
   "source": [
    "export_csv = data_df.to_csv (\"IAHRLD_4332_harvey_HOUSTON_25000.csv\", encoding='utf-8', index=False, header=True)"
   ]
  },
  {
   "cell_type": "code",
   "execution_count": null,
   "metadata": {},
   "outputs": [],
   "source": []
  }
 ],
 "metadata": {
  "kernelspec": {
   "display_name": "Python 3",
   "language": "python",
   "name": "python3"
  },
  "language_info": {
   "codemirror_mode": {
    "name": "ipython",
    "version": 3
   },
   "file_extension": ".py",
   "mimetype": "text/x-python",
   "name": "python",
   "nbconvert_exporter": "python",
   "pygments_lexer": "ipython3",
   "version": "3.6.5"
  }
 },
 "nbformat": 4,
 "nbformat_minor": 2
}
