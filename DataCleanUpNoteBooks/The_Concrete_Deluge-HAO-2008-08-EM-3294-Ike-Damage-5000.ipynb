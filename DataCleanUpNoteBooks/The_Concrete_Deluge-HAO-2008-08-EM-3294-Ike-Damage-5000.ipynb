{
 "cells": [
  {
   "cell_type": "code",
   "execution_count": 1,
   "metadata": {},
   "outputs": [
    {
     "name": "stdout",
     "output_type": "stream",
     "text": [
      "FEMA DataSet : Housing Assistance Owners | Ike Damage > 5000\n"
     ]
    },
    {
     "data": {
      "text/html": [
       "<div>\n",
       "<style scoped>\n",
       "    .dataframe tbody tr th:only-of-type {\n",
       "        vertical-align: middle;\n",
       "    }\n",
       "\n",
       "    .dataframe tbody tr th {\n",
       "        vertical-align: top;\n",
       "    }\n",
       "\n",
       "    .dataframe thead th {\n",
       "        text-align: right;\n",
       "    }\n",
       "</style>\n",
       "<table border=\"1\" class=\"dataframe\">\n",
       "  <thead>\n",
       "    <tr style=\"text-align: right;\">\n",
       "      <th></th>\n",
       "    </tr>\n",
       "  </thead>\n",
       "  <tbody>\n",
       "  </tbody>\n",
       "</table>\n",
       "</div>"
      ],
      "text/plain": [
       "Empty DataFrame\n",
       "Columns: []\n",
       "Index: []"
      ]
     },
     "execution_count": 1,
     "metadata": {},
     "output_type": "execute_result"
    }
   ],
   "source": [
    "# Dependencies\n",
    "import requests\n",
    "import json\n",
    "import matplotlib.pyplot as plt\n",
    "import pandas as pd\n",
    "import numpy as np\n",
    "import requests\n",
    "\n",
    "# REFERENCE LINK FOR COLUMN DEFINITION\n",
    "# https://www.fema.gov/openfema-dataset-housing-assistance-data-owners-v1\n",
    "\n",
    "# FEMA Data | Ike Damage > 5000 | 0 rows | Some Houston Outliers\n",
    "url = \"https://www.fema.gov/api/open/v1/HousingAssistanceOwners?$filter=state%20eq%20%27TX%27%20and%20disasterNumber%20eq%20%273294%27%20and%20totalDamage%20gt%20%275000%27\"\n",
    "\n",
    "# Request articles\n",
    "articles = requests.get(url).json()\n",
    "\n",
    "print(\"FEMA DataSet : Housing Assistance Owners | Ike Damage > 5000\")\n",
    "\n",
    "data_df = pd.DataFrame(articles[\"HousingAssistanceOwners\"])\n",
    "data_df\n",
    "\n"
   ]
  },
  {
   "cell_type": "code",
   "execution_count": 2,
   "metadata": {},
   "outputs": [],
   "source": [
    "export_csv = data_df.to_csv (\"HousingAssistanceOwners_3294_ike.csv\", encoding='utf-8', index=False, header=True)"
   ]
  },
  {
   "cell_type": "code",
   "execution_count": null,
   "metadata": {},
   "outputs": [],
   "source": []
  }
 ],
 "metadata": {
  "kernelspec": {
   "display_name": "Python 3",
   "language": "python",
   "name": "python3"
  },
  "language_info": {
   "codemirror_mode": {
    "name": "ipython",
    "version": 3
   },
   "file_extension": ".py",
   "mimetype": "text/x-python",
   "name": "python",
   "nbconvert_exporter": "python",
   "pygments_lexer": "ipython3",
   "version": "3.6.5"
  }
 },
 "nbformat": 4,
 "nbformat_minor": 2
}
